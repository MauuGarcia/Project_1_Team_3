{
 "cells": [
  {
   "cell_type": "code",
   "execution_count": 7,
   "metadata": {},
   "outputs": [],
   "source": [
    "# Dependencies and Setup\n",
    "import pandas as pd \n",
    "import matplotlib.pyplot as plt\n"
   ]
  },
  {
   "cell_type": "code",
   "execution_count": 6,
   "metadata": {},
   "outputs": [
    {
     "ename": "NameError",
     "evalue": "name 'study_results_path' is not defined",
     "output_type": "error",
     "traceback": [
      "\u001b[0;31m---------------------------------------------------------------------------\u001b[0m",
      "\u001b[0;31mNameError\u001b[0m                                 Traceback (most recent call last)",
      "Cell \u001b[0;32mIn[6], line 15\u001b[0m\n\u001b[1;32m     13\u001b[0m \u001b[38;5;66;03m# Read the mouse data and the study results\u001b[39;00m\n\u001b[1;32m     14\u001b[0m medical_price \u001b[38;5;241m=\u001b[39m pd\u001b[38;5;241m.\u001b[39mread_csv(medical_price)\n\u001b[0;32m---> 15\u001b[0m study_results \u001b[38;5;241m=\u001b[39m pd\u001b[38;5;241m.\u001b[39mread_csv(study_results_path)\n\u001b[1;32m     17\u001b[0m \u001b[38;5;66;03m# Combine the data into a single DataFrame\u001b[39;00m\n\u001b[1;32m     18\u001b[0m single_df \u001b[38;5;241m=\u001b[39m pd\u001b[38;5;241m.\u001b[39mmerge(study_results, mouse_metadata,how\u001b[38;5;241m=\u001b[39m\u001b[38;5;124m'\u001b[39m\u001b[38;5;124mleft\u001b[39m\u001b[38;5;124m'\u001b[39m, on\u001b[38;5;241m=\u001b[39m[\u001b[38;5;124m'\u001b[39m\u001b[38;5;124mMouse ID\u001b[39m\u001b[38;5;124m'\u001b[39m,\u001b[38;5;124m'\u001b[39m\u001b[38;5;124mMouse ID\u001b[39m\u001b[38;5;124m'\u001b[39m])\n",
      "\u001b[0;31mNameError\u001b[0m: name 'study_results_path' is not defined"
     ]
    }
   ],
   "source": [
    "# Study data files\n",
    "medical_price = \"data/Consumer Prices Housing.csv\"\n",
    "food_and_DrinkingPlaces_Retail_Sales = \"data/Food_and_DrinkingPlaces_Retail_Sales.csv\"\n",
    "inflation_rate = \"data/Inflation_rate.csv\"\n",
    "Medical_Price = \"data/Medical Price.csv\"\n",
    "Real_GRoss_Domestic_Product = \"data/.csv\"\n",
    "Real_M2_Money_Stock = \"data/Real M2 Money Stock.csv\"\n",
    "Unemployment_Rate_College_Graduates_Bachelors_Degree_25_to_34_years = \"data/Unemployment Rate - College Graduates - Bachelor's Degree, 25 to 34 years.csv\"\n",
    "Unemployment_Rate_College_Graduates_Masters_Degree_25_years_and_over = \"data/Unemployment Rate - College Graduates - Master's Degree, 25 years and over.csv\"\n",
    "Unemployment_Rate_High_School_Graduates_No_College_25_Yrs_over = \"data/Unemployment Rate - High School Graduates, No College, 25 Yrs. & over.csv\"\n",
    "Unemployment_Rate = \"data/Unemployment_Rate.csv\"\n",
    "\n",
    "# Read the mouse data and the study results\n",
    "medical_price = pd.read_csv(medical_price)\n",
    "study_results = pd.read_csv(study_results_path)\n",
    "\n",
    "# Combine the data into a single DataFrame\n",
    "single_df = pd.merge(study_results, mouse_metadata,how='left', on=['Mouse ID','Mouse ID'])"
   ]
  },
  {
   "cell_type": "code",
   "execution_count": null,
   "metadata": {},
   "outputs": [],
   "source": []
  }
 ],
 "metadata": {
  "kernelspec": {
   "display_name": "base",
   "language": "python",
   "name": "python3"
  },
  "language_info": {
   "codemirror_mode": {
    "name": "ipython",
    "version": 3
   },
   "file_extension": ".py",
   "mimetype": "text/x-python",
   "name": "python",
   "nbconvert_exporter": "python",
   "pygments_lexer": "ipython3",
   "version": "3.11.7"
  }
 },
 "nbformat": 4,
 "nbformat_minor": 2
}
